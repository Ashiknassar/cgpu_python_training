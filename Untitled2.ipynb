{
  "nbformat": 4,
  "nbformat_minor": 0,
  "metadata": {
    "colab": {
      "provenance": [],
      "authorship_tag": "ABX9TyOABNKpMdPHMus32tFzsfFT",
      "include_colab_link": true
    },
    "kernelspec": {
      "name": "python3",
      "display_name": "Python 3"
    },
    "language_info": {
      "name": "python"
    }
  },
  "cells": [
    {
      "cell_type": "markdown",
      "metadata": {
        "id": "view-in-github",
        "colab_type": "text"
      },
      "source": [
        "<a href=\"https://colab.research.google.com/github/Ashiknassar/cgpu_python_training/blob/main/Untitled2.ipynb\" target=\"_parent\"><img src=\"https://colab.research.google.com/assets/colab-badge.svg\" alt=\"Open In Colab\"/></a>"
      ]
    },
    {
      "cell_type": "code",
      "source": [
        "a=int(input())\n",
        "b=\n"
      ],
      "metadata": {
        "id": "TEHib0C5YKmX"
      },
      "execution_count": null,
      "outputs": []
    },
    {
      "cell_type": "code",
      "source": [
        "#even no in a digit\n",
        "n=int(input())\n",
        "s=0\n",
        "while n!=0:\n",
        "  if (n%10)%2==0:\n",
        "    s=s+1\n",
        "  n=n//10\n",
        "print(s)"
      ],
      "metadata": {
        "colab": {
          "base_uri": "https://localhost:8080/"
        },
        "id": "vWj9XcHPZGAK",
        "outputId": "0f401ac3-8270-4b43-d592-d887dab8561c"
      },
      "execution_count": 6,
      "outputs": [
        {
          "output_type": "stream",
          "name": "stdout",
          "text": [
            "9876543210\n",
            "5\n"
          ]
        }
      ]
    },
    {
      "cell_type": "code",
      "source": [
        "#sum of all digits of given number\n",
        "n=int(input())\n",
        "r=0\n",
        "while n!=0:\n",
        "  r=r+(n%10)\n",
        "  n=n//10\n",
        "print(r)"
      ],
      "metadata": {
        "colab": {
          "base_uri": "https://localhost:8080/"
        },
        "id": "9wepPfAtfSHa",
        "outputId": "631a109b-9fc6-4554-f3ef-c3942353dee9"
      },
      "execution_count": 13,
      "outputs": [
        {
          "output_type": "stream",
          "name": "stdout",
          "text": [
            "1234\n",
            "10\n"
          ]
        }
      ]
    },
    {
      "cell_type": "code",
      "source": [
        "#difference of sum of all the even numbers and sum of all the odd numbers\n",
        "n=int(input())\n",
        "o=0\n",
        "e=0\n",
        "while n!=0:\n",
        "  r=n%10\n",
        "  if r%2==0:\n",
        "    e=e+r\n",
        "  else:\n",
        "    o=o+r\n",
        "  n=n//10\n",
        "d=e-o\n",
        "print(d)"
      ],
      "metadata": {
        "colab": {
          "base_uri": "https://localhost:8080/"
        },
        "id": "gEc-pMZYhpGK",
        "outputId": "49c996e5-3175-431c-9d4d-296ff66aac41"
      },
      "execution_count": 21,
      "outputs": [
        {
          "output_type": "stream",
          "name": "stdout",
          "text": [
            "1234\n",
            "2\n"
          ]
        }
      ]
    },
    {
      "cell_type": "code",
      "source": [
        "n=int(input())\n",
        "t=n\n",
        "new=0\n",
        "while n>0:\n",
        "  new=(new*10)+(n%10)\n",
        "  n=n//10\n",
        "if t==new:\n",
        "  print(\"palindrome\")\n",
        "else:\n",
        "  print(\"not palindrome\")"
      ],
      "metadata": {
        "colab": {
          "base_uri": "https://localhost:8080/"
        },
        "id": "cdDUz_Gnk1WA",
        "outputId": "0e751393-9a2c-44a8-9599-a3a013dc1114"
      },
      "execution_count": 33,
      "outputs": [
        {
          "output_type": "stream",
          "name": "stdout",
          "text": [
            "135\n",
            "not palindrome\n"
          ]
        }
      ]
    },
    {
      "cell_type": "code",
      "source": [
        "#reversing only multiple 3\n",
        "n=int(input())\n",
        "t=n\n",
        "new=0\n",
        "while n>0:\n",
        "  if (n%10)%3==0:\n",
        "    new=(new*10)+(n%10)\n",
        "  n=n//10\n",
        "print(new)"
      ],
      "metadata": {
        "colab": {
          "base_uri": "https://localhost:8080/"
        },
        "id": "EqaQc1zTsJg7",
        "outputId": "30247730-0450-4bab-c469-6cfa18e69adb"
      },
      "execution_count": 34,
      "outputs": [
        {
          "output_type": "stream",
          "name": "stdout",
          "text": [
            "135679\n",
            "963\n"
          ]
        }
      ]
    }
  ]
}